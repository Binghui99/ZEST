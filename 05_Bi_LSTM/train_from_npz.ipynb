{
 "cells": [
  {
   "cell_type": "code",
   "execution_count": null,
   "metadata": {},
   "outputs": [],
   "source": [
    "import tensorflow as tf\n",
    "from tensorflow.keras.regularizers import l2\n",
    "from tensorflow.keras.layers import Dense, LSTM, Bidirectional, Dropout, Reshape\n",
    "from tensorflow.keras.callbacks import ModelCheckpoint, EarlyStopping\n",
    "from tensorflow.keras.optimizers import Adam\n",
    "from tensorflow.keras import Input\n",
    "\n",
    "from numpy import load\n",
    "\n",
    "import matplotlib.pyplot as plt"
   ]
  },
  {
   "cell_type": "code",
   "execution_count": null,
   "metadata": {},
   "outputs": [],
   "source": [
    "# mount Google drive\n",
    "\n",
    "from google.colab import drive\n",
    "drive.mount('/content/gdrive')"
   ]
  },
  {
   "cell_type": "code",
   "execution_count": null,
   "metadata": {
    "colab": {
     "base_uri": "https://localhost:8080/"
    },
    "executionInfo": {
     "elapsed": 28624,
     "status": "ok",
     "timestamp": 1666006980240,
     "user": {
      "displayName": "Research Resource",
      "userId": "02545163769908416759"
     },
     "user_tz": -120
    },
    "id": "I0-OsKPNmju_",
    "outputId": "02c73bdb-ce4a-4bc9-cf92-62214e75920e"
   },
   "outputs": [],
   "source": [
    "# google colab file paths\n",
    "\n",
    "CSV_SEQUENCES = \"/content/gdrive/MyDrive/Colab Notebooks/iot_device_classification/csv_sequences\"\n",
    "NPZ_WINDOWS = \"/content/gdrive/MyDrive/Colab Notebooks/iot_device_classification/npz_windows\"\n",
    "MODELS = \"/content/gdrive/MyDrive/Colab Notebooks/iot_device_classification/models\""
   ]
  },
  {
   "cell_type": "code",
   "execution_count": null,
   "metadata": {
    "id": "I3BedIOgcLoz"
   },
   "outputs": [],
   "source": [
    "# laptop file paths\n",
    "\n",
    "CSV_SEQUENCES = \"C:/work_c/2022-09-20_unsw_dataset_iot_2018/csv_sequences\"\n",
    "NPZ_WINDOWS = \"C:/work_c/2022-09-20_unsw_dataset_iot_2018/npz_windows\"\n",
    "MODELS = \"C:/work_c/2022-09-20_unsw_dataset_iot_2018/models\""
   ]
  },
  {
   "cell_type": "code",
   "execution_count": null,
   "metadata": {
    "executionInfo": {
     "elapsed": 657,
     "status": "ok",
     "timestamp": 1666006983346,
     "user": {
      "displayName": "Research Resource",
      "userId": "02545163769908416759"
     },
     "user_tz": -120
    },
    "id": "js_jXon6mip0"
   },
   "outputs": [],
   "source": [
    "def load_train_val_test_data(npz_file):\n",
    "    \"\"\"\n",
    "    Load training data (windows + one-hot labels) from compressed file. Split data into 3 datasets: train (60%), val (20%), and test (20%).\n",
    "\n",
    "    Arguments:\n",
    "        - npz_file: The path to the *.npz file\n",
    "    Returns:\n",
    "        x and y for the 3 datasets\n",
    "    \"\"\"\n",
    "    dict_data = load(npz_file)\n",
    "    x = dict_data['x']\n",
    "    y = dict_data['y']\n",
    "    total_length = len(x)\n",
    "    x_train = x[:int(total_length * 0.6)]\n",
    "    y_train = y[:int(total_length * 0.6)]\n",
    "    x_val = x[int(total_length * 0.6) : int(total_length * 0.8)]\n",
    "    y_val = y[int(total_length * 0.6) : int(total_length * 0.8)]\n",
    "    x_test = x[int(total_length * 0.8):]\n",
    "    y_test = y[int(total_length * 0.8):]\n",
    "    return (x_train, y_train, x_val, y_val, x_test, y_test)"
   ]
  },
  {
   "cell_type": "code",
   "execution_count": null,
   "metadata": {
    "colab": {
     "base_uri": "https://localhost:8080/"
    },
    "executionInfo": {
     "elapsed": 2248,
     "status": "ok",
     "timestamp": 1666002987184,
     "user": {
      "displayName": "Research Resource",
      "userId": "02545163769908416759"
     },
     "user_tz": -120
    },
    "id": "nqR19hCBmip5",
    "outputId": "b547e2ec-3a38-40ae-b441-c8e67672ec9f"
   },
   "outputs": [],
   "source": [
    "# test load_data_make_split()\n",
    "\n",
    "x_train, y_train, x_val, y_val, x_test, y_test = load_train_val_test_data(\"{}/all_days_all_devices.npz\".format(NPZ_WINDOWS))\n",
    "print(\"shape of train windws: {}\".format(x_train.shape))\n",
    "print(\"shape of train labels: {}\".format(y_train.shape))\n",
    "print(\"shape of test windows: {}\".format(x_val.shape))\n",
    "print(\"shape of test labels: {}\".format(y_val.shape))\n",
    "print(\"shape of test windows: {}\".format(x_test.shape))\n",
    "print(\"shape of test labels: {}\".format(y_test.shape))\n",
    "print(\"First train window, part:\")\n",
    "print(x_train[0][:3])\n",
    "print(\"First train labels:\")\n",
    "print(y_train[:3])\n",
    "print(\"Data type for train windows: {}\".format(x_train.dtype))\n",
    "print(\"Data type for train labels: {}\".format(y_train.dtype))"
   ]
  },
  {
   "cell_type": "code",
   "execution_count": null,
   "metadata": {
    "executionInfo": {
     "elapsed": 1781,
     "status": "ok",
     "timestamp": 1666007718467,
     "user": {
      "displayName": "Research Resource",
      "userId": "02545163769908416759"
     },
     "user_tz": -120
    },
    "id": "J8RJ3v8hmip6"
   },
   "outputs": [],
   "source": [
    "\n",
    "# define model\n",
    "\n",
    "CLASSES=28\n",
    "PATIENCE=1\n",
    "EPOCHS=1\n",
    "BATCH_SIZE = 128\n",
    "DROPOUT = 0.2\n",
    "LEARNING_RATE=0.0001\n",
    "REGULARIZATION = 0.001\n",
    "\n",
    "model = tf.keras.models.Sequential([\n",
    "    Input(shape=x_train[0].shape, dtype = tf.float32),\n",
    "    Bidirectional(LSTM(64, return_sequences=True, kernel_regularizer=l2(REGULARIZATION))),\n",
    "    Bidirectional(LSTM(64, return_sequences=False, kernel_regularizer=l2(REGULARIZATION))),\n",
    "    Dense(units=128, activation = 'relu', kernel_regularizer=l2(REGULARIZATION)),\n",
    "    Dropout(DROPOUT),\n",
    "    Dense(units=CLASSES, activation = 'softmax', kernel_regularizer=l2(REGULARIZATION)),\n",
    "    Reshape([1, -1]),\n",
    "])\n",
    "\n",
    "early_stopping = EarlyStopping(monitor='val_loss',\n",
    "                               patience=PATIENCE,\n",
    "                               mode='min')\n",
    "\n",
    "checkpoint = ModelCheckpoint(\"{}/all_days_all_devices\".format(MODELS), monitor='val_loss', verbose=0,\n",
    "                                    save_best_only=True, mode='min')\n",
    "\n",
    "model.compile(loss='categorical_crossentropy',\n",
    "                   optimizer=Adam(learning_rate = LEARNING_RATE),\n",
    "                   metrics=['accuracy'])\n",
    "\n"
   ]
  },
  {
   "cell_type": "code",
   "execution_count": null,
   "metadata": {
    "colab": {
     "base_uri": "https://localhost:8080/",
     "height": 380
    },
    "executionInfo": {
     "elapsed": 62023,
     "status": "error",
     "timestamp": 1666007803404,
     "user": {
      "displayName": "Research Resource",
      "userId": "02545163769908416759"
     },
     "user_tz": -120
    },
    "id": "JYyZJw-pfkQu",
    "outputId": "f92def01-ac28-4956-df2c-2aa5feea3e7b"
   },
   "outputs": [],
   "source": [
    "# do training\n",
    "\n",
    "history = model.fit(x_train, y_train, epochs=EPOCHS,\n",
    "                    validation_data=(x_val,y_val),\n",
    "                    callbacks=[early_stopping, checkpoint],\n",
    "                    batch_size = BATCH_SIZE)"
   ]
  },
  {
   "cell_type": "code",
   "execution_count": null,
   "metadata": {},
   "outputs": [],
   "source": [
    "# plot training progress\n",
    "\n",
    "plt.plot(history.history['accuracy'])\n",
    "plt.plot(history.history['val_accuracy'])\n",
    "plt.title('Stacked Bi-LSTM training')\n",
    "plt.ylabel('Accuracy')\n",
    "plt.xlabel('Epoch')\n",
    "plt.legend(['train', 'test'], loc='lower right')\n",
    "plt.show()"
   ]
  },
  {
   "cell_type": "code",
   "execution_count": null,
   "metadata": {},
   "outputs": [],
   "source": [
    "# get test accuracy\n",
    "\n",
    "accuracy_test = model.evaluate(x_test,y_test)"
   ]
  }
 ],
 "metadata": {
  "accelerator": "GPU",
  "colab": {
   "collapsed_sections": [],
   "machine_shape": "hm",
   "provenance": []
  },
  "gpuClass": "standard",
  "kernelspec": {
   "display_name": ".new_venv",
   "language": "python",
   "name": "python3"
  },
  "language_info": {
   "codemirror_mode": {
    "name": "ipython",
    "version": 3
   },
   "file_extension": ".py",
   "mimetype": "text/x-python",
   "name": "python",
   "nbconvert_exporter": "python",
   "pygments_lexer": "ipython3",
   "version": "3.10.8"
  },
  "vscode": {
   "interpreter": {
    "hash": "8c3e75d2422e12b7b99a020496e8fc31af8a7bc8fcc6ed39f6ff880ad607935c"
   }
  }
 },
 "nbformat": 4,
 "nbformat_minor": 1
}
