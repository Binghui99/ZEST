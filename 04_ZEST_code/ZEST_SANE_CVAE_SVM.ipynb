{
  "cells": [
    {
      "cell_type": "code",
      "execution_count": null,
      "metadata": {
        "id": "BQ3XJYrMVka6"
      },
      "outputs": [],
      "source": [
        "pip install einops"
      ]
    },
    {
      "cell_type": "code",
      "execution_count": 4,
      "metadata": {
        "id": "n9dxgm12XDN4"
      },
      "outputs": [],
      "source": [
        "import torch\n",
        "import torch.nn.functional as F\n",
        "import matplotlib.pyplot as plt\n",
        "from torch import nn\n",
        "from torch import Tensor\n",
        "\n",
        "## inspired by VIT then include some libraries\n",
        "from PIL import Image\n",
        "from torchvision.transforms import Compose, Resize, ToTensor\n",
        "from einops import rearrange, reduce, repeat\n",
        "from einops.layers.torch import Rearrange, Reduce\n",
        "from torchsummary import summary\n",
        "import pandas as pd\n",
        "import numpy as np\n",
        "import random\n",
        "from numpy import load\n",
        "\n",
        "\n",
        "from tqdm import tqdm, trange\n",
        "from torch.nn import CrossEntropyLoss\n",
        "from torch.utils.data import DataLoader\n",
        "from torch.optim import Adam\n",
        "\n",
        "from torch.utils.data import Dataset, DataLoader\n",
        "from tqdm import tqdm"
      ]
    },
    {
      "cell_type": "code",
      "execution_count": 5,
      "metadata": {
        "colab": {
          "base_uri": "https://localhost:8080/"
        },
        "id": "MrbogS3EV3Jg",
        "outputId": "4c8cc7a1-b28c-4b27-b877-5b07aa666e6a"
      },
      "outputs": [
        {
          "output_type": "stream",
          "name": "stdout",
          "text": [
            "Mounted at /content/gdrive\n"
          ]
        }
      ],
      "source": [
        "# connect to google drive\n",
        "from google.colab import drive\n",
        "drive.mount('/content/gdrive')\n",
        "\n",
        "\n",
        "# address of initial data\n",
        "CSV_SEQUENCES = \"/content/gdrive/MyDrive/Colab Notebooks/iot_device_classification/new_csv_sequences\"\n",
        "NPZ_WINDOWS = \"/content/gdrive/MyDrive/Colab Notebooks/iot_device_classification/npz_windows\"\n",
        "MODELS = \"/content/gdrive/MyDrive/Colab Notebooks/iot_device_classification/models\""
      ]
    },
    {
      "cell_type": "code",
      "execution_count": 6,
      "metadata": {
        "id": "2tjc8piiV9oj",
        "colab": {
          "base_uri": "https://localhost:8080/"
        },
        "outputId": "4f446c34-4a50-44bb-ec12-df9b0a1040e2"
      },
      "outputs": [
        {
          "output_type": "stream",
          "name": "stdout",
          "text": [
            "Using device:  cuda (Tesla T4)\n"
          ]
        }
      ],
      "source": [
        "# check the availability of cuda\n",
        "\n",
        "device = torch.device(\"cuda\" if torch.cuda.is_available() else \"cpu\")\n",
        "print(\"Using device: \", device, f\"({torch.cuda.get_device_name(device)})\" if torch.cuda.is_available() else \"\")"
      ]
    },
    {
      "cell_type": "code",
      "execution_count": 7,
      "metadata": {
        "id": "j5w6v1hNWVat"
      },
      "outputs": [],
      "source": [
        "def load_data_make_split(npz_file, train_percentage):\n",
        "    \"\"\"\n",
        "    Load training data (windows + one-hot labels) from compressed file. Split data into train and test set\n",
        "    Arguments:\n",
        "        - npz_file: The path to the *.npz file\n",
        "        - train_percentage: the percentage of data used for training (and not testing), e.g. 0.8\n",
        "    Returns:\n",
        "        A 4-tuple of train and test data with labels: (x_train, y_train, x_test, y_test)\n",
        "    \"\"\"\n",
        "    dict_data = load(npz_file)\n",
        "    x = dict_data['x']\n",
        "    y = dict_data['y']\n",
        "    train_length = int(len(x)*train_percentage)\n",
        "    x_train = x[:train_length]\n",
        "    y_train = y[:train_length]\n",
        "    x_test = x[train_length:]\n",
        "    y_test = y[train_length:]\n",
        "    return (x_train, y_train, x_test, y_test)"
      ]
    },
    {
      "cell_type": "code",
      "execution_count": 8,
      "metadata": {
        "colab": {
          "base_uri": "https://localhost:8080/"
        },
        "id": "bRVVW5h2WVe2",
        "outputId": "f17682f7-d704-48be-c4e3-fc23bcc92599"
      },
      "outputs": [
        {
          "output_type": "stream",
          "name": "stdout",
          "text": [
            "shape of train windws: (1071459, 200, 8)\n",
            "shape of train labels: (1071459, 1, 28)\n",
            "shape of test windows: (267865, 200, 8)\n",
            "shape of test labels: (267865, 1, 28)\n"
          ]
        }
      ],
      "source": [
        "# test load_data_make_split()\n",
        "x_train, y_train, x_test, y_test = load_data_make_split(\"{}/update_new_feature_all_days_all_devices.npz\".format(NPZ_WINDOWS), 0.8)\n",
        "print(\"shape of train windws: {}\".format(x_train.shape))\n",
        "print(\"shape of train labels: {}\".format(y_train.shape))\n",
        "print(\"shape of test windows: {}\".format(x_test.shape))\n",
        "print(\"shape of test labels: {}\".format(y_test.shape))"
      ]
    },
    {
      "cell_type": "code",
      "execution_count": 9,
      "metadata": {
        "colab": {
          "base_uri": "https://localhost:8080/"
        },
        "id": "5d2cUv0jzQu3",
        "outputId": "5b4149c5-f698-475b-bac9-9bfa3169012d"
      },
      "outputs": [
        {
          "output_type": "stream",
          "name": "stdout",
          "text": [
            "[(24, 12041), (15, 12270), (6, 14034), (14, 15738), (2, 34720), (0, 36454), (27, 55804), (7, 61729), (1, 67218), (4, 68597), (10, 102906), (19, 111726), (22, 197876), (23, 228604), (5, 275855)]\n"
          ]
        }
      ],
      "source": [
        "## check number of devices in a dataset\n",
        "\n",
        "all_labels = []\n",
        "for i in range(len(y_train)):\n",
        "  index = np.where(y_train[i][0] == True)\n",
        "  k = index[0][0]\n",
        "  all_labels.append(k)\n",
        "\n",
        "for i in range(len(y_test)):\n",
        "  index = np.where(y_test[i][0] == True)\n",
        "  k = index[0][0]\n",
        "  all_labels.append(k)\n",
        "\n",
        "unique, count = np.unique(all_labels, return_counts = True)\n",
        "useable_data = []\n",
        "data_pair =dict()\n",
        "\n",
        "# select the devices data points > 10000 as the supervised pretraining data\n",
        "for i in range(len(unique)):\n",
        "  if count[i] > 10000:\n",
        "    useable_data.append(unique[i])\n",
        "    # print(unique[i], count[i])\n",
        "    data_pair[unique[i]] = count[i]\n",
        "sorted_data_by_counts = sorted(data_pair.items(), key=lambda x:x[1])\n",
        "print(sorted_data_by_counts)"
      ]
    },
    {
      "cell_type": "code",
      "execution_count": 10,
      "metadata": {
        "id": "ljKJ4274hA3U"
      },
      "outputs": [],
      "source": [
        "all_device_names_dict = {0:'Smart Things', 1: 'Amazon Echo', 2:'Netatmo Welcome',3:'TP-Link Day Night Cloud camera', 4:'Samsung SmartCam', 5: 'Dropcam', 6: 'Withings Smart Baby Monitor', 7:'Belkin Wemo switch', 8:'TP-Link Smart plug',\n",
        "                         9: 'iHome', 10:'Belkin wemo motion sensor', 11:'NEST Protect smoke alarm', 12:'Netatmo weather station',13:'Withings Smart scale',14:'Withings Aura smart sleep sensor',15:'Light Bulbs LiFX Smart Bulb',\n",
        "                         16: 'Triby Speaker', 17:'PIX-STAR Photo-frame', 18 : 'HP Printer', 19: 'Samsung Galaxy Tab', 20: 'Nest Dropcam', 21:'Android Phone', 22:'Laptop', 23:'MacBook', 24:'Android Phone',\n",
        "                         25: 'IPhone', 26:'MacBook/Iphone', 27:'Insteon Camera'}"
      ]
    },
    {
      "cell_type": "code",
      "execution_count": 11,
      "metadata": {
        "id": "fCSwBYs2jjOf",
        "colab": {
          "base_uri": "https://localhost:8080/"
        },
        "outputId": "fe895c7e-b75c-43c7-80f8-b48d73b6562c"
      },
      "outputs": [
        {
          "output_type": "stream",
          "name": "stdout",
          "text": [
            "[0, 1, 2, 4, 6, 10, 14, 15, 22, 24, 27]\n",
            "[5, 7]\n"
          ]
        }
      ],
      "source": [
        "## select the devices with enough amount of data a\n",
        "total_av_idx = [0, 1, 2, 4, 5, 6, 7, 10, 14, 15, 22, 24, 27]\n",
        "\n",
        "\n",
        "## random select 2 devices as unseen devices\n",
        "unseen_idx = random.sample(total_av_idx, 2)\n",
        "\n",
        "## the left will be seen devices\n",
        "seen_idx = [i for i in total_av_idx if i not in unseen_idx]\n",
        "\n",
        "print(seen_idx)\n",
        "print(unseen_idx)"
      ]
    },
    {
      "cell_type": "code",
      "execution_count": 12,
      "metadata": {
        "id": "QAbrbpzazoDD"
      },
      "outputs": [],
      "source": [
        "num_unseen = len(unseen_idx)\n",
        "num_seen = len(seen_idx)\n",
        "\n",
        "\n",
        "# def one-hot index\n",
        "def idxtoOneHot(idx, length):\n",
        "  label_ohe = np.zeros((1,length))\n",
        "  label_ohe[0][idx] = 1\n",
        "  return label_ohe\n",
        "\n",
        "# def merge dictionary\n",
        "def Merge(dict1, dict2):\n",
        "  res = {**dict1, **dict2}\n",
        "  return res\n",
        "\n",
        "\n",
        "# def dictionary for unseen, seen, and name\n",
        "def generate_label_dict(unseen_idx, seed_idx):\n",
        "\n",
        "  \"\"\"\n",
        "    generate the label of each device and its corresponding name\n",
        "\n",
        "    like {9: 'iHome'}, we shuffle the data, 9 --> 10\n",
        "    the data will be  {'iHome': 10}\n",
        "\n",
        "    \"\"\"\n",
        "  unseen_dict = dict()\n",
        "  seen_dict = dict()\n",
        "  all_index_to_name = dict()\n",
        "  seen_index_to_name = dict()\n",
        "  unseen_index_to_name = dict()\n",
        "  for i in range(0,num_seen):\n",
        "    seen_dict[seen_idx[i]] = i\n",
        "    seen_index_to_name[i] = all_device_names_dict[seen_idx[i]]\n",
        "  for i in range(0,2):\n",
        "    unseen_dict[unseen_idx[i]] = num_seen + i\n",
        "    unseen_index_to_name[num_seen+i] = all_device_names_dict[unseen_idx[i]]\n",
        "  total_dict = Merge(unseen_dict, seen_dict)\n",
        "  all_index_to_name = Merge(seen_index_to_name, unseen_index_to_name)\n",
        "  return unseen_dict, seen_dict, total_dict,all_index_to_name\n",
        "\n",
        "## generate the training data\n",
        "def seen_training_data(init_x_train, init_x_test, init_y_train, init_y_test, seen_dict):\n",
        "  x_train_feature = []\n",
        "  y_train_feature = []\n",
        "  x_test_feature = []\n",
        "  y_test_feature = []\n",
        "\n",
        "  ## change from one-hot to label\n",
        "  for i in range(len(init_y_train)):\n",
        "    index = np.where(init_y_train[i][0] == True)\n",
        "    k = index[0][0]\n",
        "    if k in seen_idx:\n",
        "      x_train_feature.append(init_x_train[i])\n",
        "      # idx to new range\n",
        "      new_k = seen_dict[k]\n",
        "      y_train_feature.append(idxtoOneHot(new_k,len(seen_idx)))\n",
        "\n",
        "  for i in range(len(init_y_test)):\n",
        "    index = np.where(init_y_test[i][0] == True)\n",
        "    k = index[0][0]\n",
        "    if k in seen_idx:\n",
        "      x_test_feature.append(init_x_test[i])\n",
        "      # idx to new range\n",
        "      new_k = seen_dict[k]\n",
        "      y_test_feature.append(idxtoOneHot(new_k,len(seen_idx)))\n",
        "  return np.array(x_train_feature), np.array(y_train_feature), np.array(x_test_feature), np.array(y_test_feature)\n",
        "\n",
        "\n",
        "\n",
        "## extract features for the final test with both seen and unseen data\n",
        "def feature_extraction_data_seen_and_unseen(init_x_train, init_x_test, init_y_train, init_y_test, attr_dict):\n",
        "\n",
        "  x_train_attr = []\n",
        "  y_train_attr = []\n",
        "  x_test_attr = []\n",
        "  y_test_attr = []\n",
        "\n",
        "  attr_idx = [0,1,2,4,5,6,7,10,14,15,22,24,27]\n",
        "  for i in range(len(init_y_train)):\n",
        "    index = np.where(init_y_train[i][0] == True)\n",
        "    k = index[0][0]\n",
        "    if k in attr_idx:\n",
        "      x_train_attr.append(init_x_train[i])\n",
        "      # idx to new range\n",
        "      new_k = attr_dict[k]\n",
        "      y_train_attr.append(idxtoOneHot(new_k,len(attr_idx)))\n",
        "\n",
        "  for i in range(len(init_y_test)):\n",
        "    index = np.where(init_y_test[i][0] == True)\n",
        "    k = index[0][0]\n",
        "    if k in attr_idx:\n",
        "      x_test_attr.append(init_x_test[i])\n",
        "      # idx to new range\n",
        "      new_k = attr_dict[k]\n",
        "      y_test_attr.append(idxtoOneHot(new_k,len(attr_idx)))\n",
        "\n",
        "  x_train_attr = np.array(x_train_attr)\n",
        "  y_train_attr = np.array(y_train_attr)\n",
        "  x_test_attr = np.array(x_test_attr)\n",
        "  y_test_attr = np.array(y_test_attr)\n",
        "\n",
        "  return x_train_attr,  y_train_attr, x_test_attr, y_test_attr\n"
      ]
    },
    {
      "cell_type": "code",
      "execution_count": 13,
      "metadata": {
        "id": "dDc2DMvr0Axe"
      },
      "outputs": [],
      "source": [
        "unseen_dict, seen_dict,total_dict,all_index_to_name = generate_label_dict(unseen_idx, seen_idx)"
      ]
    },
    {
      "cell_type": "code",
      "execution_count": 14,
      "metadata": {
        "id": "wOs2md-v0A5L"
      },
      "outputs": [],
      "source": [
        "x_train_feature, y_train_feature, x_test_feature, y_test_feature = seen_training_data(x_train, x_test, y_train, y_test, seen_dict)\n",
        "x_train_attr,  y_train_attr, x_test_attr, y_test_attr = feature_extraction_data_seen_and_unseen(x_train, x_test, y_train, y_test, total_dict)"
      ]
    },
    {
      "cell_type": "code",
      "execution_count": 15,
      "metadata": {
        "colab": {
          "base_uri": "https://localhost:8080/"
        },
        "id": "YTh2GwVI0A7P",
        "outputId": "79ad6a5a-93bb-4472-dda2-3973f9ebd243"
      },
      "outputs": [
        {
          "output_type": "stream",
          "name": "stdout",
          "text": [
            "unseen dictionary {5: 11, 7: 12}\n",
            "seen dictionary {0: 0, 1: 1, 2: 2, 4: 3, 6: 4, 10: 5, 14: 6, 15: 7, 22: 8, 24: 9, 27: 10}\n",
            "total dictionary {5: 11, 7: 12, 0: 0, 1: 1, 2: 2, 4: 3, 6: 4, 10: 5, 14: 6, 15: 7, 22: 8, 24: 9, 27: 10}\n",
            "index to name dictionary {0: 'Smart Things', 1: 'Amazon Echo', 2: 'Netatmo Welcome', 3: 'Samsung SmartCam', 4: 'Withings Smart Baby Monitor', 5: 'Belkin wemo motion sensor', 6: 'Withings Aura smart sleep sensor', 7: 'Light Bulbs LiFX Smart Bulb', 8: 'Laptop', 9: 'Android Phone', 10: 'Insteon Camera', 11: 'Dropcam', 12: 'Belkin Wemo switch'}\n",
            "shape of train windws: (764405, 200, 8)\n",
            "shape of train labels: (764405, 1, 13)\n",
            "shape of test windows: (190837, 200, 8)\n",
            "shape of test labels: (190837, 1, 13)\n",
            "shape of train windws: (494250, 200, 8)\n",
            "shape of train labels: (494250, 1, 11)\n",
            "shape of test windows: (123408, 200, 8)\n",
            "shape of test labels: (123408, 1, 11)\n"
          ]
        }
      ],
      "source": [
        "print('unseen dictionary', unseen_dict)\n",
        "print('seen dictionary', seen_dict)\n",
        "print('total dictionary', total_dict)\n",
        "print('index to name dictionary', all_index_to_name)\n",
        "\n",
        "print(\"shape of train windws: {}\".format(x_train_attr.shape))\n",
        "print(\"shape of train labels: {}\".format(y_train_attr.shape))\n",
        "print(\"shape of test windows: {}\".format(x_test_attr.shape))\n",
        "print(\"shape of test labels: {}\".format(y_test_attr.shape))\n",
        "\n",
        "\n",
        "print(\"shape of train windws: {}\".format(x_train_feature.shape))\n",
        "print(\"shape of train labels: {}\".format(y_train_feature.shape))\n",
        "print(\"shape of test windows: {}\".format(x_test_feature.shape))\n",
        "print(\"shape of test labels: {}\".format(y_test_feature.shape))"
      ]
    },
    {
      "cell_type": "code",
      "execution_count": 42,
      "metadata": {
        "id": "EoBZ2IgQxIna"
      },
      "outputs": [],
      "source": [
        "\n",
        "### SANE model design\n",
        "\n",
        "\n",
        "\n",
        "# first conv2d to improve the performance\n",
        "class NetPatchEmbedding(nn.Module):\n",
        "    def __init__(self, in_channels: int = 1, feature_size: int = 200, emb_size: int = 8):\n",
        "        self.feature_szie = feature_size\n",
        "        super().__init__()\n",
        "        self.projection = nn.Sequential(\n",
        "            # using a linear one to map the input to emb_size\n",
        "            nn.Linear(emb_size, emb_size)\n",
        "        )\n",
        "        # sla_token: which aggrgate sequence level information\n",
        "        self.sla_token = nn.Parameter(torch.randn(1,1,emb_size))\n",
        "\n",
        "        # positional embedding : we let the model learn it, positional embedding is just a tensor of shape N_patchs\n",
        "        self.positions = nn.Parameter(torch.randn(feature_size + 1, emb_size) )\n",
        "\n",
        "    def forward(self, x: Tensor) -> Tensor:\n",
        "        # print(x.shape)\n",
        "        b, _, _, = x.shape\n",
        "\n",
        "        x = self.projection(x)\n",
        "        # repeat sla_token to all the samples number b\n",
        "        sla_tokens = repeat(self.sla_token, '() n e -> b n e', b = b)\n",
        "\n",
        "        # then prepend the sla token to the input\n",
        "        x = torch.cat([sla_tokens, x], dim = 1)\n",
        "        # add positional embedding\n",
        "        x += self.positions\n",
        "\n",
        "        return x\n",
        "\n",
        "# NetPatchEmbedding()(k).shape"
      ]
    },
    {
      "cell_type": "code",
      "execution_count": 43,
      "metadata": {
        "id": "sgtq0w5cz02O"
      },
      "outputs": [],
      "source": [
        "## self-attention mechanism\n",
        "\n",
        "class NetMultiHeadAttention(nn.Module):\n",
        "    def __init__(self, emb_size: int = 8, num_heads: int = 8, dropout: float = 0):\n",
        "        super().__init__()\n",
        "        self.emb_size = emb_size\n",
        "        self.num_heads = num_heads\n",
        "        ## calculate the Query key and value\n",
        "        self.keys = nn.Linear(emb_size, emb_size)\n",
        "        self.queries = nn.Linear(emb_size, emb_size)\n",
        "        self.values = nn.Linear(emb_size, emb_size)\n",
        "        self.att_drop = nn.Dropout(dropout)\n",
        "        self.projection = nn.Linear(emb_size, emb_size)\n",
        "\n",
        "    def forward(self, x : Tensor, mask: Tensor = None) -> Tensor:\n",
        "        # split keys, queries and values in num_heads\n",
        "        # the result query key and values has a shape of BATCH, HEADS, SEQUENCE_LEN, EMBEDDING_SIZE\n",
        "        queries = rearrange(self.queries(x), \"b n (h d) -> b h n d\", h=self.num_heads)\n",
        "        keys = rearrange(self.keys(x), \"b n (h d) -> b h n d\", h=self.num_heads)\n",
        "        values  = rearrange(self.values(x), \"b n (h d) -> b h n d\", h=self.num_heads)\n",
        "\n",
        "        # sum up over the last axis   batch, num_heads, query_len, key_len\n",
        "        energy = torch.einsum('bhqd, bhkd -> bhqk', queries, keys) # batch, num_heads, query_len, key_len\n",
        "        if mask is not None:\n",
        "            fill_value = torch.finfo(torch.float32).min\n",
        "            energy.mask_fill(~mask, fill_value)\n",
        "\n",
        "        scaling = self.emb_size ** (1/2)\n",
        "        att = F.softmax(energy, dim=-1) / scaling\n",
        "        att = self.att_drop(att)\n",
        "\n",
        "\n",
        "        # sum up over the third axis\n",
        "        out = torch.einsum('bhal, bhlv -> bhav ', att, values)\n",
        "        out = rearrange(out, \"b h n d -> b n (h d)\")\n",
        "        out = self.projection(out)\n",
        "        return out\n",
        "\n",
        "\n",
        "#add residual value\n",
        "class NetResidualAdd(nn.Module):\n",
        "    def __init__(self, fn):\n",
        "      super().__init__()\n",
        "      self.fn = fn\n",
        "\n",
        "    def forward(self, x, **kwargs):\n",
        "      res = x\n",
        "      x = self.fn(x, **kwargs)\n",
        "      x += res\n",
        "      return x\n",
        "\n",
        "\n",
        "class NetFeedForwardBlock(nn.Sequential):\n",
        "    def __init__(self, emb_size: int, expansion: int = 4, drop_p : float = 0.):\n",
        "      super().__init__(\n",
        "          nn.Linear(emb_size, expansion * emb_size),\n",
        "          nn.GELU(),\n",
        "          nn.Dropout(),\n",
        "          nn.Linear(expansion*emb_size, emb_size)\n",
        "      )\n",
        "\n",
        "class NetTransformerEncoderBlock(nn.Sequential):\n",
        "    def __init__(self,\n",
        "                 emb_size: int = 8,\n",
        "                 drop_p: float = 0.,\n",
        "                 forward_expansion: int = 4,\n",
        "                 forward_drop_p: float = 0.,\n",
        "                 ** kwargs):\n",
        "        super().__init__(\n",
        "            NetResidualAdd(nn.Sequential(\n",
        "                nn.LayerNorm(emb_size),\n",
        "                NetMultiHeadAttention(emb_size, **kwargs),\n",
        "                nn.Dropout(drop_p)\n",
        "            )),\n",
        "            NetResidualAdd(nn.Sequential(\n",
        "                nn.LayerNorm(emb_size),\n",
        "                NetFeedForwardBlock(\n",
        "                    emb_size, expansion=forward_expansion, drop_p=forward_drop_p),\n",
        "                nn.Dropout(drop_p)\n",
        "            )\n",
        "            ))\n"
      ]
    },
    {
      "cell_type": "code",
      "execution_count": 44,
      "metadata": {
        "id": "KxggFso_0q1t"
      },
      "outputs": [],
      "source": [
        "\n",
        "## adding multiple encoders if needed\n",
        "class NetTransformerEncoder(nn.Sequential):\n",
        "    def __init__(self, depth: int = 2, **kwargs):\n",
        "        super().__init__(*[NetTransformerEncoderBlock(**kwargs) for _ in range(depth)])\n",
        "\n",
        "## classification head for classification\n",
        "class NetClassificationHead(nn.Sequential):\n",
        "    def __init__(self, emb_size: int = 8, n_classes: int = 11, n_attr = 3, n_extract = 20):\n",
        "        super().__init__(\n",
        "            Reduce('b n e -> b e', reduction='mean'),\n",
        "            nn.LayerNorm(emb_size),\n",
        "            # add one layer for feature extraction\n",
        "            nn.Linear(emb_size, n_extract),\n",
        "\n",
        "            # add one more layer for attribute extraction\n",
        "            nn.Linear(n_extract, n_attr),\n",
        "            nn.Linear(n_attr, n_classes))\n",
        "\n",
        "##\n",
        "class NetFormer(nn.Sequential):\n",
        "    def __init__(self,\n",
        "                in_channels: int = 1,\n",
        "                feature_size: int = 200,\n",
        "                emb_size: int = 8,\n",
        "                depth: int = 2,\n",
        "                n_classes: int = 11,\n",
        "                n_attr = 3,\n",
        "                n_extract = 20,\n",
        "                **kwargs):\n",
        "        super().__init__(\n",
        "            NetPatchEmbedding(in_channels, feature_size, emb_size,),\n",
        "            NetTransformerEncoder(depth, emb_size=emb_size, **kwargs),\n",
        "            NetClassificationHead(emb_size, n_classes, n_attr)\n",
        "        )"
      ]
    },
    {
      "cell_type": "code",
      "execution_count": null,
      "metadata": {
        "id": "rlpAeKn60q4_"
      },
      "outputs": [],
      "source": [
        "summary(NetFormer(), (200,8), device='cpu')"
      ]
    },
    {
      "cell_type": "code",
      "execution_count": 46,
      "metadata": {
        "id": "pGrtxr5DsyA-"
      },
      "outputs": [],
      "source": [
        "\n",
        "# change label from one-hot to integer\n",
        "y_train_labels = []\n",
        "y_test_labels = []\n",
        "for i in range(len(y_train_feature)):\n",
        "  index = np.where(y_train_feature[i][0] == True)\n",
        "  k = index[0][0]\n",
        "  y_train_labels.append(k)\n",
        "\n",
        "for i in range(len(y_test_feature)):\n",
        "  index = np.where(y_test_feature[i][0] == True)\n",
        "  k = index[0][0]\n",
        "  y_test_labels.append(k)\n",
        "\n",
        "\n",
        "# print(y_train_labels[0:10])"
      ]
    },
    {
      "cell_type": "code",
      "execution_count": 48,
      "metadata": {
        "id": "ZV7jIFPPtOM9"
      },
      "outputs": [],
      "source": [
        "model = NetFormer().to(device)\n",
        "N_EPOCHS = 30\n",
        "LR = 0.0005\n",
        "\n",
        "## reshape the input to feed into ZEST model\n",
        "x_train = x_train_feature.reshape((-1,200,8))\n",
        "x_test = x_test_feature.reshape((-1,200,8))\n",
        "\n",
        "x_train = torch.tensor(x_train)\n",
        "y_train = torch.tensor(y_train_labels)\n",
        "x_test = torch.tensor(x_test)\n",
        "y_test = torch.tensor(y_test_labels)\n",
        "# print(y_test.shape)"
      ]
    },
    {
      "cell_type": "code",
      "execution_count": 49,
      "metadata": {
        "colab": {
          "base_uri": "https://localhost:8080/"
        },
        "id": "cSyk3PWgFqHI",
        "outputId": "62daeef5-93d1-4273-840a-e51c501a5f47"
      },
      "outputs": [
        {
          "output_type": "stream",
          "name": "stdout",
          "text": [
            "Using device:  cuda (Tesla T4)\n"
          ]
        }
      ],
      "source": [
        "## put the data into torch data loader\n",
        "train_dataset = torch.utils.data.TensorDataset(x_train, y_train)\n",
        "train_dataloader = torch.utils.data.DataLoader(train_dataset, batch_size=64, shuffle=True)\n",
        "\n",
        "test_dataset = torch.utils.data.TensorDataset(x_test, y_test)\n",
        "test_dataloader = torch.utils.data.DataLoader(test_dataset, batch_size=64, shuffle=True)\n",
        "\n",
        "device = torch.device(\"cuda\" if torch.cuda.is_available() else \"cpu\")\n",
        "print(\"Using device: \", device, f\"({torch.cuda.get_device_name(device)})\" if torch.cuda.is_available() else \"\")\n",
        "# print(summary(NetFormer(), (8, 200), device = 'cuda'))\n",
        "# print(x_train.shape)"
      ]
    },
    {
      "cell_type": "code",
      "execution_count": 50,
      "metadata": {
        "id": "5usp0_0mTOuO"
      },
      "outputs": [],
      "source": [
        "## define 2 set to store the results for figure plots\n",
        "\n",
        "acc_train_set = []\n",
        "acc_test_set = []\n",
        "\n",
        "loss_train_set = []\n",
        "loss_test_set = []"
      ]
    },
    {
      "cell_type": "code",
      "execution_count": null,
      "metadata": {
        "id": "enhCrZOWFqLU"
      },
      "outputs": [],
      "source": [
        "## train the model\n",
        "\n",
        "optimizer = Adam(model.parameters(), lr=LR)\n",
        "criterion = CrossEntropyLoss()\n",
        "for epoch in trange(N_EPOCHS, desc=\"Training\"):\n",
        "  train_loss = 0.0\n",
        "  correct, total = 0, 0\n",
        "  for batch in tqdm(train_dataloader, desc=f\"Epoch {epoch + 1} in training\", leave=True,  mininterval=50, miniters=50):\n",
        "    x, y = batch\n",
        "    # print('shape of x :',x.shape)\n",
        "    # print('shape of y :',y.shape)\n",
        "    x, y = x.to(device), y.to(device)\n",
        "    y_hat = model(x)\n",
        "    # y_hat = y_hat.reshape((-1,1,28))\n",
        "    # print('shape of y_hat', y_hat.shape)\n",
        "    loss = criterion(y_hat, y)\n",
        "\n",
        "    train_loss += loss.detach().cpu().item() / len(train_dataloader)\n",
        "    correct += torch.sum(torch.argmax(y_hat, dim=1) == y).detach().cpu().item()\n",
        "    total += len(x)\n",
        "\n",
        "    optimizer.zero_grad()\n",
        "    loss.backward()\n",
        "    optimizer.step()\n",
        "\n",
        "  print(f\"Epoch {epoch + 1}/{N_EPOCHS} loss: {train_loss:.2f}\")\n",
        "  print(f\"Epoch {epoch + 1}/{N_EPOCHS} Training accuracy: {correct / total * 100:.2f}%\")\n",
        "  acc_train_set.append(correct / total)\n",
        "  loss_train_set.append(train_loss)\n",
        "  # Test loop\n",
        "  with torch.no_grad():\n",
        "    correct, total = 0, 0\n",
        "    test_loss = 0.0\n",
        "    for batch in tqdm(test_dataloader, desc=\"Testing\", leave=True, mininterval=5, miniters=10):\n",
        "        x, y = batch\n",
        "        x, y = x.to(device), y.to(device)\n",
        "        y_hat = model(x)\n",
        "        loss = criterion(y_hat, y)\n",
        "        test_loss += loss.detach().cpu().item() / len(test_dataloader)\n",
        "\n",
        "        correct += torch.sum(torch.argmax(y_hat, dim=1) == y).detach().cpu().item()\n",
        "        total += len(x)\n",
        "    print(f\"Test loss: {test_loss:.2f}\")\n",
        "    print(f\"Test accuracy: {correct / total * 100:.2f}%\")\n",
        "    acc_test_set.append(correct / total)\n",
        "    loss_test_set.append(test_loss)"
      ]
    },
    {
      "cell_type": "code",
      "execution_count": null,
      "metadata": {
        "id": "9OlD2XG4q6tq"
      },
      "outputs": [],
      "source": [
        "print(acc_train_set)\n",
        "print(acc_test_set)\n",
        "print(loss_train_set)\n",
        "print(loss_test_set)"
      ]
    },
    {
      "cell_type": "code",
      "execution_count": null,
      "metadata": {
        "colab": {
          "base_uri": "https://localhost:8080/",
          "height": 295
        },
        "id": "vuDiMqYcTplG",
        "outputId": "d881e005-c294-4994-b30d-1161ea3acf9a"
      },
      "outputs": [
        {
          "output_type": "display_data",
          "data": {
            "text/plain": [
              "<Figure size 432x288 with 1 Axes>"
            ],
            "image/png": "[encoded data removed]"
          },
          "metadata": {
            "needs_background": "light"
          }
        }
      ],
      "source": [
        "import matplotlib.pyplot as plt\n",
        "# draw training progress\n",
        "x = np.linspace(1,25,25)\n",
        "plt.plot(x,acc_train_set)\n",
        "plt.plot(x,acc_test_set)\n",
        "plt.title('Transformer training progress')\n",
        "plt.ylabel('Accuracy')\n",
        "plt.xlabel('Epoch')\n",
        "plt.legend(['Train', 'Validation'], loc='upper left')\n",
        "plt.show()"
      ]
    },
    {
      "cell_type": "code",
      "execution_count": null,
      "metadata": {
        "colab": {
          "base_uri": "https://localhost:8080/",
          "height": 295
        },
        "id": "RYBe3eJUTpuT",
        "outputId": "55438345-91e4-49c4-898f-15c02e372445"
      },
      "outputs": [
        {
          "output_type": "display_data",
          "data": {
            "text/plain": [
              "<Figure size 432x288 with 1 Axes>"
            ],
            "image/png": "[encoded data removed]"
          },
          "metadata": {
            "needs_background": "light"
          }
        }
      ],
      "source": [
        "import matplotlib.pyplot as plt\n",
        "# draw training progress of loss\n",
        "x = np.linspace(1,25,25)\n",
        "plt.plot(x,loss_train_set)\n",
        "plt.plot(x,loss_test_set)\n",
        "plt.title('Transformer training progress')\n",
        "plt.ylabel('Loss')\n",
        "plt.xlabel('Epoch')\n",
        "plt.legend(['Train', 'Validation'], loc='upper left')\n",
        "plt.show()"
      ]
    },
    {
      "cell_type": "code",
      "execution_count": 52,
      "metadata": {
        "id": "JnrG-TlOrqFG"
      },
      "outputs": [],
      "source": [
        "## save the model\n",
        "torch.save(model.state_dict(), \"{}/ZEST_0.pt\".format(MODELS))"
      ]
    },
    {
      "cell_type": "code",
      "execution_count": 54,
      "metadata": {
        "colab": {
          "base_uri": "https://localhost:8080/"
        },
        "id": "u_IY202TwKRU",
        "outputId": "05d50d88-0305-4d9d-f31c-3b941aea2488"
      },
      "outputs": [
        {
          "output_type": "execute_result",
          "data": {
            "text/plain": [
              "<All keys matched successfully>"
            ]
          },
          "metadata": {},
          "execution_count": 54
        }
      ],
      "source": [
        "## load the saved model\n",
        "model.load_state_dict(torch.load(\"{}/ZEST_0.pt\".format(MODELS)))"
      ]
    },
    {
      "cell_type": "code",
      "execution_count": 55,
      "metadata": {
        "id": "DazdEFzWXEh8"
      },
      "outputs": [],
      "source": [
        "\n",
        "## combine the data to get the attributes for all the devices : seen and unseen\n",
        "## !! just based on the model trained only on seen classes\n",
        "new_x = np.concatenate((x_train_attr,x_test_attr))\n",
        "new_y = np.concatenate((y_train_attr,y_test_attr))\n",
        "\n",
        "\n",
        "y_train_attr = []\n",
        "for i in range(len(new_y)):\n",
        "  index = np.where(new_y[i][0] == True)\n",
        "  k = index[0][0]\n",
        "  y_train_attr.append(k)\n",
        "\n",
        "\n",
        "new_x = new_x.reshape((-1,200,8))\n",
        "\n",
        "new_x_train = torch.tensor(new_x)\n",
        "new_y_train = torch.tensor(y_train_attr)\n",
        "\n",
        "\n",
        "new_train_dataset = torch.utils.data.TensorDataset(new_x_train, new_y_train)\n",
        "new_train_dataloader = torch.utils.data.DataLoader(new_train_dataset, batch_size=64, shuffle=True)"
      ]
    },
    {
      "cell_type": "code",
      "execution_count": null,
      "metadata": {
        "id": "iayvivg9YIyq"
      },
      "outputs": [],
      "source": [
        "## take the output of 2 layers to work as two level of features L and Lambda we mentioned in the paper\n",
        "\n",
        "features_in_hook = []\n",
        "features_out_hook = []\n",
        "\n",
        "attr_in_hook = []\n",
        "attr_out_hook = []\n",
        "\n",
        "\n",
        "\n",
        "## define 2 hook to get the output of certain layer in the model\n",
        "\n",
        "def feature_hook(module, fea_in, fea_out):\n",
        "    features_in_hook.append(fea_in)\n",
        "    features_out_hook.append(fea_out)\n",
        "    return None\n",
        "\n",
        "\n",
        "\n",
        "def attr_hook(module, attr_in, attr_out):\n",
        "    attr_in_hook.append(attr_in)\n",
        "    attr_out_hook.append(attr_out)\n",
        "    return None\n",
        "\n",
        "net = model\n",
        "\n",
        "feature_layer_name = '2.2'\n",
        "attr_layer_name = '2.3'\n",
        "for (name, module) in net.named_modules():\n",
        "  # print(name)\n",
        "  if name == feature_layer_name:\n",
        "    module.register_forward_hook(hook=feature_hook)\n",
        "  elif name == attr_layer_name:\n",
        "    module.register_forward_hook(hook=attr_hook)\n",
        "\n",
        "\n",
        "prediction = []\n",
        "real = []\n",
        "with torch.no_grad():\n",
        "  correct, total = 0, 0\n",
        "  test_loss = 0.0\n",
        "  for batch in tqdm(new_train_dataloader, desc=\"Testing\"):\n",
        "    x, y = batch\n",
        "    x, y = x.to(device), y.to(device)\n",
        "    y_hat = net(x)\n",
        "    for i in y:\n",
        "      real.append(i)\n",
        "    prediction.append(y_hat)"
      ]
    },
    {
      "cell_type": "code",
      "execution_count": 58,
      "metadata": {
        "colab": {
          "base_uri": "https://localhost:8080/"
        },
        "id": "kT26m0-QDVKb",
        "outputId": "43c2a2c4-59ae-469a-8088-63b14978e113"
      },
      "outputs": [
        {
          "output_type": "execute_result",
          "data": {
            "text/plain": [
              "(955242,)"
            ]
          },
          "metadata": {},
          "execution_count": 58
        }
      ],
      "source": [
        "real_label = []\n",
        "for j in range(len(real)):\n",
        "  real_label.append(real[j].cpu().numpy())\n",
        "real_label = np.array(real_label)\n",
        "real_label.shape\n",
        "\n",
        "# print(features_out_hook[0][1])"
      ]
    },
    {
      "cell_type": "code",
      "execution_count": 59,
      "metadata": {
        "id": "gOODhXlg8T28",
        "colab": {
          "base_uri": "https://localhost:8080/"
        },
        "outputId": "c8160a81-f1eb-4abd-f9ea-8429693c43cd"
      },
      "outputs": [
        {
          "output_type": "stream",
          "name": "stdout",
          "text": [
            "(955242, 20)\n",
            "(955242, 3)\n"
          ]
        }
      ],
      "source": [
        "new_feature = []\n",
        "for i in range(len(features_out_hook)):\n",
        "  for j in range(len(features_out_hook[i])):\n",
        "    new_feature.append(features_out_hook[i][j].cpu().numpy())\n",
        "\n",
        "new_attr = []\n",
        "for i in range(len(attr_out_hook)):\n",
        "  for j in range(len(attr_out_hook[i])):\n",
        "    new_attr.append(attr_out_hook[i][j].cpu().numpy())\n",
        "\n",
        "new_feature =np.array(new_feature)\n",
        "new_attr =np.array(new_attr)\n",
        "print(new_feature.shape)\n",
        "print(new_attr.shape)"
      ]
    },
    {
      "cell_type": "code",
      "execution_count": 60,
      "metadata": {
        "colab": {
          "base_uri": "https://localhost:8080/"
        },
        "id": "T43OoZQPfFD0",
        "outputId": "141847f6-93a1-42c9-94f7-7efdc4c55d76"
      },
      "outputs": [
        {
          "output_type": "stream",
          "name": "stdout",
          "text": [
            "{0: [], 1: [], 2: [], 3: [], 4: [], 5: [], 6: [], 7: [], 8: [], 9: [], 10: [], 11: [], 12: []}\n",
            "{0: array([-18.469843,  23.125456, -10.08955 ], dtype=float32), 1: array([-10.145199 ,   3.885353 ,   5.9235253], dtype=float32), 2: array([-10.400902 ,  -2.385714 ,  -6.9343824], dtype=float32), 3: array([  3.25472 , -18.290081,  14.812773], dtype=float32), 4: array([ 3.8146322, 17.679535 , -8.597265 ], dtype=float32), 5: array([ 6.0684156, -5.3204083, -4.1698313], dtype=float32), 6: array([15.771193 ,  8.869213 ,  6.5278664], dtype=float32), 7: array([ 6.2723093, -2.2644265,  7.1916623], dtype=float32), 8: array([-15.127081 , -11.50587  ,  -1.3410503], dtype=float32), 9: array([-15.7846365,  -9.107595 ,  -2.739224 ], dtype=float32), 10: array([ 4.6775136,  3.3596647, 16.00385  ], dtype=float32), 11: array([-15.58578 ,  14.876772,  -5.219828], dtype=float32), 12: array([ 7.326816, -4.766336, -3.980715], dtype=float32)}\n"
          ]
        }
      ],
      "source": [
        "attr_dict = dict()\n",
        "for i in range(13):\n",
        "  attr_dict[i] = []\n",
        "print(attr_dict)\n",
        "\n",
        "\n",
        "for i in range(len(real_label)):\n",
        "  k = real_label[i]\n",
        "  # print(k)\n",
        "  attr_dict[k].append(new_attr[i])\n",
        "\n",
        "\n",
        "## get the attribute vector for each devices\n",
        "attr_lib = dict()\n",
        "for key in attr_dict:\n",
        "  # print(key)\n",
        "  attr_lib[key] = np.mean(attr_dict[key],axis = 0)\n",
        "print(attr_lib)"
      ]
    },
    {
      "cell_type": "code",
      "execution_count": 61,
      "metadata": {
        "colab": {
          "base_uri": "https://localhost:8080/"
        },
        "id": "zbRJDnEjf45y",
        "outputId": "92fc052a-fa76-428c-9949-8628880c3db7"
      },
      "outputs": [
        {
          "output_type": "stream",
          "name": "stdout",
          "text": [
            "23.125456\n",
            "-18.469843\n",
            "{0: [0.0, 1.0, 0.2], 1: [0.2, 0.54, 0.59], 2: [0.19, 0.39, 0.28], 3: [0.52, 0.0, 0.8], 4: [0.54, 0.87, 0.24], 5: [0.59, 0.32, 0.34], 6: [0.82, 0.66, 0.6], 7: [0.59, 0.39, 0.62], 8: [0.08, 0.17, 0.41], 9: [0.06, 0.23, 0.38], 10: [0.56, 0.52, 0.83], 11: [0.07, 0.8, 0.32], 12: [0.62, 0.33, 0.35]}\n"
          ]
        }
      ],
      "source": [
        "## normalize the attributes from 0-1\n",
        "max_for_all = []\n",
        "min_for_all = []\n",
        "for i in attr_lib.keys():\n",
        "  k = np.max(attr_lib[i])\n",
        "  max_for_all.append(k)\n",
        "  l = np.min(attr_lib[i])\n",
        "  min_for_all.append(l)\n",
        "\n",
        "\n",
        "maxi = np.max(max_for_all)\n",
        "mini = np.min(min_for_all)\n",
        "\n",
        "print(maxi)\n",
        "print(mini)\n",
        "\n",
        "\n",
        "def transfer_new_attr(mean, maxi, mini):\n",
        "  new = []\n",
        "  for i in range(len(mean)):\n",
        "    x_scale = 1 * ((mean[i] - mini) / (maxi-mini))\n",
        "    new.append(np.round(x_scale,2))\n",
        "  return new\n",
        "\n",
        "new_attr_lib = dict()\n",
        "for key in attr_lib:\n",
        "  new_attr_lib[key] = transfer_new_attr(attr_lib[key],maxi, mini)\n",
        "\n",
        "new_attr_set = []\n",
        "new_y_label = []\n",
        "for i in range(len(real_label)):\n",
        "    k = real_label[i]\n",
        "    new_y_label.append(k)\n",
        "    new_attr_set.append(new_attr_lib[k])\n",
        "\n",
        "print(new_attr_lib)"
      ]
    },
    {
      "cell_type": "code",
      "execution_count": null,
      "metadata": {
        "id": "gUA5mj-bl57u"
      },
      "outputs": [],
      "source": [
        "seen_index = [0,1,2,3,4,5,6,7,8,9,10]\n",
        "unseen_index = [11,12]\n",
        "print(new_attr_lib)\n",
        "seen_num = len(seen_index)\n",
        "unseen_num = len(unseen_index)\n",
        "attr_num = 3\n",
        "\n",
        "#def attribute to name\n",
        "attr_lib_name = dict()\n",
        "for i in range(13):\n",
        "  attr_lib_name[all_index_to_name[i]] = new_attr_lib[i]\n",
        "attr_lib_name"
      ]
    },
    {
      "cell_type": "code",
      "execution_count": 63,
      "metadata": {
        "id": "cgyOPjflzP2g"
      },
      "outputs": [],
      "source": [
        "seen_class_label = []\n",
        "seen_class_attr = []\n",
        "seen_class_features = []\n",
        "\n",
        "unseen_class_label = []\n",
        "unseen_class_attr  = []\n",
        "unseen_class_features  = []\n",
        "\n",
        "\n",
        "# save the 2 level features and attributes for CVAE model to learn\n",
        "# the mapping between them\n",
        "for i in range(len(real_label)):\n",
        "  if real_label[i] in seen_index:\n",
        "    seen_class_label.append(real_label[i])\n",
        "    seen_class_attr.append(new_attr[i])\n",
        "    seen_class_features.append(new_feature[i])\n",
        "  elif real_label[i] in unseen_index:\n",
        "    unseen_class_label.append(real_label[i])\n",
        "    unseen_class_attr.append(new_attr[i])\n",
        "    unseen_class_features.append(new_feature[i])\n"
      ]
    },
    {
      "cell_type": "code",
      "execution_count": 64,
      "metadata": {
        "colab": {
          "base_uri": "https://localhost:8080/"
        },
        "id": "IemZjl5l5fjX",
        "outputId": "b47ac020-839f-434c-96bb-4aa3d9bf08f3"
      },
      "outputs": [
        {
          "output_type": "stream",
          "name": "stdout",
          "text": [
            "Counter({8: 197876, 5: 102906, 3: 68597, 1: 67218, 10: 55804, 0: 36454, 2: 34720, 6: 15738, 4: 14034, 7: 12270, 9: 12041})\n",
            "Counter({11: 275855, 12: 61729})\n"
          ]
        }
      ],
      "source": [
        "from collections import Counter\n",
        "print(Counter(seen_class_label))\n",
        "print(Counter(unseen_class_label))"
      ]
    },
    {
      "cell_type": "code",
      "execution_count": 65,
      "metadata": {
        "colab": {
          "base_uri": "https://localhost:8080/"
        },
        "id": "cF85F9eGzP47",
        "outputId": "c425a26c-a52a-4339-d1b7-528eb88d66d3"
      },
      "outputs": [
        {
          "output_type": "stream",
          "name": "stdout",
          "text": [
            "11 2 3\n"
          ]
        }
      ],
      "source": [
        "## save the data with features, attributes, and labels\n",
        "\n",
        "from numpy import savez_compressed\n",
        "from datetime import date\n",
        "\n",
        "today = date.today()\n",
        "seen_num = len(seen_idx)\n",
        "unseen_num = len(unseen_idx)\n",
        "attr_num = len(seen_class_attr[0])\n",
        "print(seen_num, unseen_num, attr_num)\n",
        "\n",
        "\n",
        "npz_file_seen = \"{}/test_2_5_24_{}_seen_classes_{}_new_attribute_{}\".format(NPZ_WINDOWS,seen_num, attr_num, today)\n",
        "savez_compressed(npz_file_seen, x = seen_class_features, y = seen_class_label, attribute = seen_class_attr)\n",
        "\n",
        "npz_file_unseen = \"{}/test_2_5_24_{}_unseen_{}_new_attribute_{}\".format(NPZ_WINDOWS,unseen_num, attr_num,today)\n",
        "savez_compressed(npz_file_unseen, x = unseen_class_features, y = unseen_class_label, attribute = unseen_class_attr)"
      ]
    },
    {
      "cell_type": "code",
      "execution_count": 66,
      "metadata": {
        "id": "eWmpwF6Oml-8"
      },
      "outputs": [],
      "source": [
        "def load_data_make_split(npz_file, train_percentage, attr_dimension):\n",
        "    \"\"\"\n",
        "    Load training data (windows + one-hot labels) from compressed file. Split data into train and test set\n",
        "\n",
        "    Arguments:\n",
        "        - npz_file: The path to the *.npz file\n",
        "        - train_percentage: the percentage of data used for training (and not testing), e.g. 0.8\n",
        "    Returns:\n",
        "        A 4-tuple of train and test data with labels: (x_train, y_train, x_test, y_test)\n",
        "    \"\"\"\n",
        "    dict_data = load(npz_file)\n",
        "    x = dict_data['x']\n",
        "    x = x.reshape((x.shape[0],20))\n",
        "    y = dict_data['y']\n",
        "    z = dict_data['attribute']\n",
        "    z = z.reshape((z.shape[0],attr_dimension))\n",
        "\n",
        "    train_length = int(len(x)*train_percentage)\n",
        "    x_train = x[:train_length]\n",
        "    y_train = y[:train_length]\n",
        "    z_train = z[:train_length]\n",
        "    x_test = x[train_length:]\n",
        "    y_test = y[train_length:]\n",
        "    z_test = z[train_length:]\n",
        "\n",
        "    return (x_train, y_train, z_train, x_test, y_test, z_test)"
      ]
    },
    {
      "cell_type": "code",
      "execution_count": null,
      "metadata": {
        "id": "ZPBEl_Tqd8Hv"
      },
      "outputs": [],
      "source": [
        "#### define the CVAE model for learning the mapping between Data space and Attributes space\n",
        "\n",
        "import tensorflow as tf\n",
        "from tensorflow.keras.regularizers import l2\n",
        "from tensorflow.keras.layers import Dense, LSTM, Bidirectional, Dropout, Reshape\n",
        "from tensorflow.keras.callbacks import ModelCheckpoint, EarlyStopping\n",
        "from tensorflow.keras.optimizers import Adam\n",
        "from tensorflow.keras import Input\n",
        "from collections import Counter\n",
        "from numpy import savez_compressed\n",
        "from datetime import date\n",
        "from numpy import load\n",
        "import numpy as np\n",
        "import matplotlib.pyplot as plt\n",
        "from tensorflow.keras.layers import Dense, LSTM, Bidirectional, Dropout, Reshape, Lambda, Input, BatchNormalization, concatenate\n",
        "from sklearn.metrics import accuracy_score\n",
        "from sklearn import svm\n",
        "from tensorflow.keras.models import Model\n",
        "import tensorflow.keras.backend as K\n",
        "import random\n",
        "from sklearn.metrics import accuracy_score\n",
        "from sklearn import svm\n",
        "from tensorflow.python.framework.ops import disable_eager_execution\n",
        "\n",
        "attr_num = 3\n",
        "seen_num = 11\n",
        "unseen_num = 2\n",
        "\n",
        "x_train, y_train, z_train, x_test, y_test, z_test = load_data_make_split(\"{}.npz\".format(npz_file_seen),0.8, attr_num )\n",
        "real_train_x, real_train_y, real_train_z, real_test_x, real_test_y, real_test_z  =  load_data_make_split(\"{}.npz\".format(npz_file_unseen), 0.8,attr_num )\n",
        "\n",
        "# reshape the label to be onehot form\n",
        "labels_ohe= np.empty((y_train.shape[0],seen_num,1), dtype=np.float32)\n",
        "for i in range(y_train.shape[0]):\n",
        "  label_ohe = np.zeros((1,seen_num))\n",
        "  label_ohe[0][int(y_train[i])] = 1\n",
        "  labels_ohe[i] = label_ohe.T\n",
        "\n",
        "labels_ohe_test= np.empty((y_test.shape[0], seen_num, 1), dtype=np.float32)\n",
        "for i in range(y_test.shape[0]):\n",
        "  label_ohe = np.zeros((1,seen_num))\n",
        "  label_ohe[0][int(y_test[i])] = 1\n",
        "  labels_ohe_test[i] = label_ohe.T\n",
        "\n",
        "y_train = labels_ohe.reshape((y_train.shape[0],-1))\n",
        "y_test = labels_ohe_test.reshape((y_test.shape[0],-1))\n",
        "\n",
        "disable_eager_execution()\n",
        "\n",
        "train_size = x_train.shape[0]\n",
        "batch_size = 64\n",
        "test_size = x_test.shape[0]\n",
        "\n",
        "\n",
        "m = 64 # bacthsize\n",
        "n_x = 20 # feature dimension\n",
        "n_y = attr_num  # attribute vector\n",
        "n_z = 4  # noise dimension\n",
        "interNo = n_x  # number of neurons in the middle layer\n",
        "n_epoch = 10  # number of epoches\n",
        "\n",
        "# encoder input dimension\n",
        "input_ic = Input(shape=[n_x+n_y], name = 'img_class' )\n",
        "# attribute vector\n",
        "cond  = Input(shape=[n_y] , name='class')\n",
        "temp_h_q = Dense(interNo, activation='relu')(input_ic)\n",
        "h_q_zd = Dropout(rate=0.2)(temp_h_q)\n",
        "h_q = Dense(interNo, activation='relu')(h_q_zd)\n",
        "# dense layer for mu\n",
        "temp_h_q_2 = Dense(n_z, activation='linear')(h_q)\n",
        "mu = Dense(n_z, activation='linear')(temp_h_q_2)\n",
        "# dense layer for log\n",
        "# log_sigma = Dense(n_z, activation='linear')(h_q)\n",
        "log_sigma = Dense(n_z, activation='linear')(temp_h_q_2)\n",
        "\n",
        "def sample_z(args):\n",
        "    mu, log_sigma = args\n",
        "    eps = tf.random.normal(shape=[n_z], mean=0., stddev=1.)\n",
        "    return mu + tf.exp(log_sigma / 2) * eps\n",
        "\n",
        "z = Lambda(sample_z)([mu, log_sigma])\n",
        "\n",
        "# Depending on the keras version...\n",
        "# z_cond = merge([z, cond] , mode='concat', concat_axis=1)\n",
        "z_cond = concatenate([z, cond])\n",
        "\n",
        "decoder_hidden = Dense(32, activation='relu')\n",
        "decoder_out = Dense(n_x, activation='linear')\n",
        "h_p = decoder_hidden(z_cond)\n",
        "reconstr = decoder_out(h_p)\n",
        "vae = Model(inputs=[input_ic , cond], outputs=[reconstr])\n",
        "\n",
        "encoder = Model(inputs=[input_ic , cond], outputs=[mu])\n",
        "\n",
        "\n",
        "d_in = Input(shape=[n_z+n_y])\n",
        "d_h = decoder_hidden(d_in)\n",
        "d_out = decoder_out(d_h)\n",
        "decoder = Model(d_in, d_out)\n",
        "\n",
        "def vae_loss(y_true, y_pred):\n",
        "    \"\"\" Calculate loss = reconstruction loss + KL loss for each data in minibatch \"\"\"\n",
        "    # E[log P(X|z)]\n",
        "    recon = tf.keras.backend.mean(tf.keras.backend.square(y_pred - y_true), axis=1)\n",
        "    # D_KL(Q(z|X) || P(z|X)); calculate in closed form as both dist. are Gaussian\n",
        "    kl = 0.5 * tf.keras.backend.sum(tf.exp(log_sigma) + tf.keras.backend.square(mu) - 1. - log_sigma, axis=1)\n",
        "    #print 'kl : ' + str(kl)\n",
        "    return recon + kl\n",
        "\n",
        "encoder.summary()\n",
        "decoder.summary()\n",
        "vae.compile(optimizer=\"adam\", loss=vae_loss)\n",
        "\n",
        "\n",
        "X_train = np.concatenate([x_train , z_train], axis=1)\n",
        "print(X_train.shape)\n",
        "print ('Fitting VAE Model...')\n",
        "vae.fit({'img_class' : X_train , 'class' : z_train}, x_train, batch_size=m, epochs=n_epoch)\n",
        "\n",
        "\n",
        "\n",
        "\n",
        "def generate_reconstruction_loss(x_train, y_train, z_train, encoder, decoder, flag):\n",
        "\n",
        "  diff_set = dict()\n",
        "  sess = tf.compat.v1.Session()\n",
        "\n",
        "  for i in range(200):\n",
        "    a = x_train[i]\n",
        "    # flag = 0 seen flag = 1 unseen\n",
        "    if flag == 0:\n",
        "      b_1 = y_train[i]\n",
        "      for j in range(len(b_1)):\n",
        "        if b_1[j] == 1:\n",
        "          b = j\n",
        "    else:\n",
        "      b =  y_train[i]\n",
        "    c = z_train[i]\n",
        "    # print(a, b, c)\n",
        "    enc_ip = np.concatenate((a, c))\n",
        "    # print(enc_ip.shape)\n",
        "    latent = encoder.predict([[enc_ip],[c] ])\n",
        "    latent = latent.reshape((1,-1))\n",
        "    c = c.reshape((1,-1))\n",
        "\n",
        "    dec_ip = np.concatenate((latent, c) , axis=1)\n",
        "    pseudoTrainData_test = decoder.predict(dec_ip)\n",
        "    with sess.as_default():\n",
        "      diff =tf.keras.backend.mean(tf.keras.backend.square(pseudoTrainData_test- a), axis=1).eval()\n",
        "    if b not in diff_set.keys():\n",
        "      diff_set[b] = diff\n",
        "    else:\n",
        "      before = diff_set[b]\n",
        "      after = np.concatenate((before,diff))\n",
        "      diff_set[b] = after\n",
        "  for i in diff_set.keys():\n",
        "    print('mean of {} : {} '.format(i,np.mean(diff_set[i])))\n",
        "\n",
        "  return diff_set\n",
        "\n",
        "\n",
        "diff_set_seen = generate_reconstruction_loss(x_train, y_train, z_train, encoder, decoder, flag = 0)\n",
        "diff_set_unseen = generate_reconstruction_loss(real_train_x, real_train_y, real_train_z, encoder, decoder, flag = 1)\n"
      ]
    },
    {
      "cell_type": "code",
      "execution_count": null,
      "metadata": {
        "id": "r0-556RDlZhK"
      },
      "outputs": [],
      "source": [
        "### generate pseudo data for all the classes\n",
        "\n",
        "def generate_pseudo_data(nSamples, label, attr_lib,noise_gen):\n",
        "  attr = attr_lib[label]\n",
        "  pseudoTrainData = []\n",
        "  pseudoTrainLabels =[]\n",
        "  pseudoTrainAttr = []\n",
        "  for i in range(0,nSamples):\n",
        "    pseudoTrainLabels.append(label)\n",
        "    pseudoTrainAttr.append(attr)\n",
        "  pseudoTrainAttr = np.array(pseudoTrainAttr)\n",
        "  pseudoTrainLabels = np.array(pseudoTrainLabels)\n",
        "  dec_ip = np.concatenate((noise_gen, pseudoTrainAttr) , axis=1)\n",
        "  pseudoTrainData = decoder.predict(dec_ip)\n",
        "  return pseudoTrainData, pseudoTrainLabels\n",
        "\n",
        "\n",
        "\n",
        "def generating_pesudo_all_data(attr_lib):\n",
        "  nSamples = 100000\n",
        "  totalExs = nSamples\n",
        "  sess = tf.compat.v1.Session()\n",
        "  with sess.as_default():\n",
        "    noise_gen = K.random_normal(shape=(totalExs, n_z), mean=0., stddev=1.).eval()\n",
        "\n",
        "  total_pseudo_data = []\n",
        "  total_pseudo_label = []\n",
        "  for i in range(0,13):\n",
        "    print('Generating Pseudo Data for class {}....... '.format(i))\n",
        "    data_1, labels_1 = generate_pseudo_data(nSamples,i, attr_lib, noise_gen)\n",
        "    if i == 0:\n",
        "      total_pseudo_data = data_1\n",
        "      total_pseudo_label = labels_1\n",
        "    else:\n",
        "      total_pseudo_data = np.concatenate((total_pseudo_data, data_1))\n",
        "      total_pseudo_label = np.concatenate((total_pseudo_label, labels_1))\n",
        "  # reshape the data\n",
        "  total_pseudo_label = total_pseudo_label.reshape((-1,))\n",
        "\n",
        "  return total_pseudo_data, total_pseudo_label\n",
        "\n",
        "\n",
        "\n",
        "svm_train_data, svm_train_label = generating_pesudo_all_data(attr_lib)\n",
        "\n"
      ]
    },
    {
      "cell_type": "code",
      "execution_count": null,
      "metadata": {
        "id": "njzN6xKYlZjo"
      },
      "outputs": [],
      "source": [
        "\n",
        "## training a supervised classifier based on the pesudo data generated\n",
        "print ('Training SVM-100')\n",
        "clf5 = svm.SVC(C=100)\n",
        "clf5.fit(svm_train_data, svm_train_label)\n",
        "\n",
        "\n",
        "\n",
        "x_train, y_train, z_train, x_test, y_test, z_test = load_data_make_split(\"{}.npz\".format(npz_file_seen),0.8, attr_num )\n",
        "final_train_x = np.concatenate((real_train_x,x_test),axis = 0)\n",
        "print(final_train_x.shape)\n",
        "final_train_y = np.concatenate((real_train_y,y_test),axis = 0)\n",
        "print(final_train_y.shape)\n",
        "\n",
        "\n",
        "print ('Predicting ZSL....')\n",
        "pred_zsl = clf5.predict(real_train_x)\n",
        "print(np.unique(pred_zsl))\n",
        "print (accuracy_score(real_train_y , pred_zsl))\n",
        "\n",
        "\n",
        "print ('Predicting GZSL...')\n",
        "pred_gzsl = clf5.predict(final_train_x)\n",
        "print(np.unique(pred_gzsl))\n",
        "print (accuracy_score(final_train_y , pred_gzsl))"
      ]
    },
    {
      "cell_type": "code",
      "execution_count": 70,
      "metadata": {
        "id": "iiQwHssUlZtH"
      },
      "outputs": [],
      "source": [
        "## show the accuracy for each class\n",
        "\n",
        "def accuracy_for_each_class(real_train_y, pred_zsl):\n",
        "\n",
        "  data_pair =dict()\n",
        "  unique, count = np.unique(real_train_y, return_counts = True)\n",
        "  for i in range(len(unique)):\n",
        "    data_pair[unique[i]] = count[i]\n",
        "    print(unique[i], count[i])\n",
        "  print(data_pair)\n",
        "\n",
        "  count_all = dict()\n",
        "\n",
        "  for i in range(len(real_train_y)):\n",
        "    b = real_train_y[i]\n",
        "    if b not in count_all.keys():\n",
        "      if pred_zsl[i] == real_train_y[i]:\n",
        "        count_all[b] = 1\n",
        "      # else:\n",
        "        # print('real : {}, predict : {}'.format(real_train_y[i],pred_zsl[i]))\n",
        "    else:\n",
        "      if pred_zsl[i] == real_train_y[i]:\n",
        "        before = count_all[b]\n",
        "        after = before + 1\n",
        "        count_all[b] = after\n",
        "      # else:\n",
        "      #   print('real : {}, predict : {}'.format(real_train_y[i],pred_zsl[i]))\n",
        "\n",
        "  print(count_all)\n",
        "\n",
        "  acc = dict()\n",
        "  for i in data_pair.keys():\n",
        "    acc[all_index_to_name[i]] = count_all[i]/data_pair[i]\n",
        "  print(acc)\n",
        "  return acc"
      ]
    },
    {
      "cell_type": "code",
      "execution_count": null,
      "metadata": {
        "id": "83qXkS77lZv2"
      },
      "outputs": [],
      "source": [
        "acc_zsl  = accuracy_for_each_class(real_train_y, pred_zsl)\n",
        "acc_gzsl  = accuracy_for_each_class(final_train_y, pred_gzsl)\n",
        "\n",
        "print(acc_zsl)\n",
        "print(acc_gzsl)"
      ]
    },
    {
      "cell_type": "code",
      "execution_count": null,
      "metadata": {
        "id": "dUcT1q1JlYi1"
      },
      "outputs": [],
      "source": []
    },
    {
      "cell_type": "code",
      "execution_count": null,
      "metadata": {
        "id": "OVvEox0TlYk5"
      },
      "outputs": [],
      "source": []
    },
    {
      "cell_type": "code",
      "execution_count": null,
      "metadata": {
        "id": "4VEov4NalYm5"
      },
      "outputs": [],
      "source": []
    },
    {
      "cell_type": "code",
      "execution_count": null,
      "metadata": {
        "id": "D3lIjhZTlYqF"
      },
      "outputs": [],
      "source": []
    },
    {
      "cell_type": "code",
      "execution_count": null,
      "metadata": {
        "id": "piBPDW3bWwxS"
      },
      "outputs": [],
      "source": []
    },
    {
      "cell_type": "code",
      "execution_count": null,
      "metadata": {
        "id": "btCvFscWWwzB"
      },
      "outputs": [],
      "source": []
    },
    {
      "cell_type": "code",
      "execution_count": null,
      "metadata": {
        "id": "xaq-q1K4Ww1O"
      },
      "outputs": [],
      "source": []
    }
  ],
  "metadata": {
    "accelerator": "GPU",
    "colab": {
      "machine_shape": "hm",
      "provenance": []
    },
    "gpuClass": "standard",
    "kernelspec": {
      "display_name": "Python 3",
      "name": "python3"
    },
    "language_info": {
      "name": "python"
    }
  },
  "nbformat": 4,
  "nbformat_minor": 0
}
